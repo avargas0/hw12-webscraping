{
 "cells": [
  {
   "cell_type": "code",
   "execution_count": 1,
   "metadata": {},
   "outputs": [],
   "source": [
    "#Dependencies\n",
    "from splinter import Browser\n",
    "from bs4 import BeautifulSoup\n",
    "import pandas as pd\n",
    "import requests\n",
    "import pymongo\n",
    "import time\n",
    "import datetime\n",
    "import re\n",
    "\n",
    "#from flask import Flask, render_template, redirect\n",
    "#from flask_pymongo import PyMongo\n",
    "# import mission_to_mars\n"
   ]
  },
  {
   "cell_type": "code",
   "execution_count": 2,
   "metadata": {},
   "outputs": [],
   "source": [
    "#URL of page to be scraped\n",
    "url = 'https://mars.nasa.gov/news/'"
   ]
  },
  {
   "cell_type": "code",
   "execution_count": 3,
   "metadata": {},
   "outputs": [],
   "source": [
    "executable_path = {'executable_path': 'chromedriver.exe'}\n",
    "browser = Browser('chrome', **executable_path, headless=False)\n",
    "\n",
    "url='https://mars.nasa.gov/news/'\n",
    "browser.visit(url)"
   ]
  },
  {
   "cell_type": "code",
   "execution_count": 4,
   "metadata": {},
   "outputs": [],
   "source": [
    "html=browser.html\n",
    "#print(html)"
   ]
  },
  {
   "cell_type": "code",
   "execution_count": 5,
   "metadata": {},
   "outputs": [],
   "source": [
    "#Create BeautifulSoup object; parse with 'html.parser'\n",
    "soup=BeautifulSoup(html, 'html.parser')\n",
    "#print(soup)"
   ]
  },
  {
   "cell_type": "markdown",
   "metadata": {},
   "source": [
    "## NASA Mars News"
   ]
  },
  {
   "cell_type": "code",
   "execution_count": 6,
   "metadata": {},
   "outputs": [],
   "source": [
    "#Pull the latest news article\n",
    "news_slide = soup.select_one('ul.item_list li.slide')\n",
    "#print(news_slide)"
   ]
  },
  {
   "cell_type": "code",
   "execution_count": 7,
   "metadata": {},
   "outputs": [
    {
     "name": "stdout",
     "output_type": "stream",
     "text": [
      "After a Reset, Curiosity Is Operating Normally\n"
     ]
    }
   ],
   "source": [
    "#Get latest news article title\n",
    "news_title = news_slide.find(\"div\", class_='content_title').get_text()\n",
    "print(news_title)"
   ]
  },
  {
   "cell_type": "code",
   "execution_count": 8,
   "metadata": {},
   "outputs": [
    {
     "name": "stdout",
     "output_type": "stream",
     "text": [
      "NASA's Mars rover Curiosity is in good health but takes a short break while engineers diagnose why it reset its computer. \n"
     ]
    }
   ],
   "source": [
    "#Get latest news article paragraph\n",
    "news_p= news_slide.find('div', class_=\"article_teaser_body\").get_text()\n",
    "print(news_p)"
   ]
  },
  {
   "cell_type": "markdown",
   "metadata": {},
   "source": [
    "## JPL Mars Space Images"
   ]
  },
  {
   "cell_type": "code",
   "execution_count": 9,
   "metadata": {},
   "outputs": [],
   "source": [
    "#Launch image url\n",
    "img_url='https://www.jpl.nasa.gov/spaceimages/?search=&category=Mars'\n",
    "\n",
    "browser.visit(img_url)\n",
    "browser.click_link_by_partial_text('FULL IMAGE')\n",
    "time.sleep(5)\n",
    "browser.click_link_by_partial_text('more info')"
   ]
  },
  {
   "cell_type": "code",
   "execution_count": 10,
   "metadata": {},
   "outputs": [
    {
     "name": "stdout",
     "output_type": "stream",
     "text": [
      "https://www.jpl.nasa.gov/spaceimages/images/largesize/PIA17661_hires.jpg\n"
     ]
    }
   ],
   "source": [
    "#Find the image URL for the current Featured Mars Image\n",
    "html=browser.html\n",
    "soup_img=BeautifulSoup(html,'html.parser')\n",
    "fig=soup_img.find('figure', class_='lede')\n",
    "partial_img=fig.find('a')['href']\n",
    "featured_image_url = 'https://www.jpl.nasa.gov' + partial_img\n",
    "print(featured_image_url)\n",
    "browser.quit()\n"
   ]
  },
  {
   "cell_type": "code",
   "execution_count": 11,
   "metadata": {},
   "outputs": [],
   "source": [
    "#Create Mars dictionary\n",
    "mars_dict=dict()"
   ]
  },
  {
   "cell_type": "code",
   "execution_count": 12,
   "metadata": {},
   "outputs": [],
   "source": [
    "#Add Mars news title, paragraph, and image URL to dictionary\n",
    "from pprint import pprint\n",
    "mars_dict['Mars News Title']=news_title\n",
    "mars_dict['Mars News Paragraph']=news_p\n",
    "mars_dict['Mars Featured Image (URL)']=featured_image_url"
   ]
  },
  {
   "cell_type": "markdown",
   "metadata": {},
   "source": [
    "## Mars Weather"
   ]
  },
  {
   "cell_type": "code",
   "execution_count": 13,
   "metadata": {},
   "outputs": [],
   "source": [
    "#Visit Twitter; scrape latest Mars weather tweet\n",
    "executable_path = {'executable_path': 'chromedriver.exe'}\n",
    "browser = Browser('chrome', **executable_path, headless=False)\n",
    "\n",
    "weather_url='https://twitter.com/marswxreport?lang=en'\n",
    "browser.visit(weather_url)\n",
    "html=browser.html\n",
    "soup_weather=BeautifulSoup(html, 'html.parser')"
   ]
  },
  {
   "cell_type": "code",
   "execution_count": 14,
   "metadata": {},
   "outputs": [
    {
     "data": {
      "text/plain": [
       "'Curiosity is again operating normally following a boot problem first experienced last Friday. Look for more Gale Crater weather conditions soon.\\nhttps://www.jpl.nasa.gov/news/news.php?feature=7339\\xa0…pic.twitter.com/gFMfXyeWDa'"
      ]
     },
     "execution_count": 14,
     "metadata": {},
     "output_type": "execute_result"
    }
   ],
   "source": [
    "#Save tweet to variable, print\n",
    "mars_weather=soup_weather.find('p', class_='TweetTextSize TweetTextSize--normal js-tweet-text tweet-text').text\n",
    "mars_weather"
   ]
  },
  {
   "cell_type": "code",
   "execution_count": 15,
   "metadata": {},
   "outputs": [],
   "source": [
    "#Add to Mars dictionary\n",
    "mars_dict['Mars Weather']=mars_weather"
   ]
  },
  {
   "cell_type": "markdown",
   "metadata": {},
   "source": [
    "## Mars Facts"
   ]
  },
  {
   "cell_type": "code",
   "execution_count": 16,
   "metadata": {},
   "outputs": [
    {
     "data": {
      "text/html": [
       "<div>\n",
       "<style scoped>\n",
       "    .dataframe tbody tr th:only-of-type {\n",
       "        vertical-align: middle;\n",
       "    }\n",
       "\n",
       "    .dataframe tbody tr th {\n",
       "        vertical-align: top;\n",
       "    }\n",
       "\n",
       "    .dataframe thead th {\n",
       "        text-align: right;\n",
       "    }\n",
       "</style>\n",
       "<table border=\"1\" class=\"dataframe\">\n",
       "  <thead>\n",
       "    <tr style=\"text-align: right;\">\n",
       "      <th></th>\n",
       "      <th>0</th>\n",
       "      <th>1</th>\n",
       "    </tr>\n",
       "  </thead>\n",
       "  <tbody>\n",
       "    <tr>\n",
       "      <th>0</th>\n",
       "      <td>Equatorial Diameter:</td>\n",
       "      <td>6,792 km</td>\n",
       "    </tr>\n",
       "    <tr>\n",
       "      <th>1</th>\n",
       "      <td>Polar Diameter:</td>\n",
       "      <td>6,752 km</td>\n",
       "    </tr>\n",
       "    <tr>\n",
       "      <th>2</th>\n",
       "      <td>Mass:</td>\n",
       "      <td>6.42 x 10^23 kg (10.7% Earth)</td>\n",
       "    </tr>\n",
       "    <tr>\n",
       "      <th>3</th>\n",
       "      <td>Moons:</td>\n",
       "      <td>2 (Phobos &amp; Deimos)</td>\n",
       "    </tr>\n",
       "    <tr>\n",
       "      <th>4</th>\n",
       "      <td>Orbit Distance:</td>\n",
       "      <td>227,943,824 km (1.52 AU)</td>\n",
       "    </tr>\n",
       "    <tr>\n",
       "      <th>5</th>\n",
       "      <td>Orbit Period:</td>\n",
       "      <td>687 days (1.9 years)</td>\n",
       "    </tr>\n",
       "    <tr>\n",
       "      <th>6</th>\n",
       "      <td>Surface Temperature:</td>\n",
       "      <td>-153 to 20 °C</td>\n",
       "    </tr>\n",
       "    <tr>\n",
       "      <th>7</th>\n",
       "      <td>First Record:</td>\n",
       "      <td>2nd millennium BC</td>\n",
       "    </tr>\n",
       "    <tr>\n",
       "      <th>8</th>\n",
       "      <td>Recorded By:</td>\n",
       "      <td>Egyptian astronomers</td>\n",
       "    </tr>\n",
       "  </tbody>\n",
       "</table>\n",
       "</div>"
      ],
      "text/plain": [
       "                      0                              1\n",
       "0  Equatorial Diameter:                       6,792 km\n",
       "1       Polar Diameter:                       6,752 km\n",
       "2                 Mass:  6.42 x 10^23 kg (10.7% Earth)\n",
       "3                Moons:            2 (Phobos & Deimos)\n",
       "4       Orbit Distance:       227,943,824 km (1.52 AU)\n",
       "5         Orbit Period:           687 days (1.9 years)\n",
       "6  Surface Temperature:                  -153 to 20 °C\n",
       "7         First Record:              2nd millennium BC\n",
       "8          Recorded By:           Egyptian astronomers"
      ]
     },
     "execution_count": 16,
     "metadata": {},
     "output_type": "execute_result"
    }
   ],
   "source": [
    "#Visit Mars Facts site; scrape the table containing facts\n",
    "executable_path = {'executable_path': 'chromedriver.exe'}\n",
    "browser = Browser('chrome', **executable_path, headless=False)\n",
    "\n",
    "facts_url='http://space-facts.com/mars/'\n",
    "marsFacts_df=pd.read_html(facts_url)\n",
    "marsFacts_df=marsFacts_df[0]\n",
    "marsFacts_df"
   ]
  },
  {
   "cell_type": "code",
   "execution_count": 17,
   "metadata": {},
   "outputs": [],
   "source": [
    "#Rename columns \n",
    "marsFacts_df.columns = ['Mars Facts', 'Values']\n",
    "\n",
    "#Use Pandas to convert data to HTML table string\n",
    "marsFacts_df.to_html('mars_facts.html', index=False)\n",
    "\n",
    "#Reset index\n",
    "marsFacts_df.set_index('Mars Facts')\n",
    "\n",
    "#New HTML version of Mars facts table\n",
    "marsFacts_html = marsFacts_df.to_html(classes='mars_facts table table-striped')"
   ]
  },
  {
   "cell_type": "code",
   "execution_count": 18,
   "metadata": {},
   "outputs": [],
   "source": [
    "#Add to Mars dictionary\n",
    "mars_dict['Mars Facts Table']=marsFacts_html"
   ]
  },
  {
   "cell_type": "markdown",
   "metadata": {},
   "source": [
    "## Mars Hemispheres"
   ]
  },
  {
   "cell_type": "code",
   "execution_count": 19,
   "metadata": {},
   "outputs": [],
   "source": [
    "#Obtain hi-res images for each of Mars' hemispheres\n",
    "executable_path = {'executable_path': 'chromedriver.exe'}\n",
    "browser = Browser('chrome', **executable_path, headless=False)\n",
    "\n",
    "hems_url='https://astrogeology.usgs.gov/search/results?q=hemisphere+enhanced&k1=target&v1=Mars'\n",
    "\n",
    "browser.visit(hems_url)\n",
    "time.sleep(5)\n",
    "html=browser.html\n",
    "soup_hems=BeautifulSoup(html,'html.parser')"
   ]
  },
  {
   "cell_type": "code",
   "execution_count": 20,
   "metadata": {},
   "outputs": [],
   "source": [
    "#Parse soup object to get images of hemispheres \n",
    "class_collapse=soup_hems.find('div', class_='collapsible results')\n",
    "images=class_collapse.find_all('div', class_='item')"
   ]
  },
  {
   "cell_type": "code",
   "execution_count": 21,
   "metadata": {},
   "outputs": [
    {
     "name": "stdout",
     "output_type": "stream",
     "text": [
      "Hem Image URL: http://astropedia.astrogeology.usgs.gov/download/Mars/Viking/cerberus_enhanced.tif/full.jpg\n",
      "Hem Image URL: http://astropedia.astrogeology.usgs.gov/download/Mars/Viking/schiaparelli_enhanced.tif/full.jpg\n",
      "Hem Image URL: http://astropedia.astrogeology.usgs.gov/download/Mars/Viking/syrtis_major_enhanced.tif/full.jpg\n",
      "Hem Image URL: http://astropedia.astrogeology.usgs.gov/download/Mars/Viking/valles_marineris_enhanced.tif/full.jpg\n"
     ]
    }
   ],
   "source": [
    "#Loop to find title & image URLs\n",
    "hem_urls=list()\n",
    "img_urls=list()\n",
    "titles=list()\n",
    "\n",
    "for image in images:\n",
    "    hem_title=image.h3.text\n",
    "    titles.append(hem_title)\n",
    "    \n",
    "    image_href='https://astrogeology.usgs.gov'+image.find('a', class_='itemLink product-item')['href']\n",
    "    \n",
    "    browser.visit(image_href)\n",
    "    time.sleep(5)\n",
    "    html=browser.html\n",
    "    soup_hems_img=BeautifulSoup(html, 'html.parser')\n",
    "    hem_img_url=soup_hems_img.find('div', class_='downloads').find('li').a['href']\n",
    "    print('Hem Image URL: '+ hem_img_url)\n",
    "    img_urls.append(hem_img_url)\n",
    "    \n",
    "    #Create dictionary\n",
    "    hems_dict=dict()\n",
    "    hems_dict['title']=hem_title\n",
    "    hems_dict['img_url']=hem_img_url\n",
    "    \n",
    "    hem_urls.append(hems_dict)"
   ]
  },
  {
   "cell_type": "code",
   "execution_count": 22,
   "metadata": {},
   "outputs": [
    {
     "name": "stdout",
     "output_type": "stream",
     "text": [
      "[{'title': 'Cerberus Hemisphere Enhanced', 'img_url': 'http://astropedia.astrogeology.usgs.gov/download/Mars/Viking/cerberus_enhanced.tif/full.jpg'}, {'title': 'Schiaparelli Hemisphere Enhanced', 'img_url': 'http://astropedia.astrogeology.usgs.gov/download/Mars/Viking/schiaparelli_enhanced.tif/full.jpg'}, {'title': 'Syrtis Major Hemisphere Enhanced', 'img_url': 'http://astropedia.astrogeology.usgs.gov/download/Mars/Viking/syrtis_major_enhanced.tif/full.jpg'}, {'title': 'Valles Marineris Hemisphere Enhanced', 'img_url': 'http://astropedia.astrogeology.usgs.gov/download/Mars/Viking/valles_marineris_enhanced.tif/full.jpg'}]\n",
      "['http://astropedia.astrogeology.usgs.gov/download/Mars/Viking/cerberus_enhanced.tif/full.jpg', 'http://astropedia.astrogeology.usgs.gov/download/Mars/Viking/schiaparelli_enhanced.tif/full.jpg', 'http://astropedia.astrogeology.usgs.gov/download/Mars/Viking/syrtis_major_enhanced.tif/full.jpg', 'http://astropedia.astrogeology.usgs.gov/download/Mars/Viking/valles_marineris_enhanced.tif/full.jpg']\n",
      "['Cerberus Hemisphere Enhanced', 'Schiaparelli Hemisphere Enhanced', 'Syrtis Major Hemisphere Enhanced', 'Valles Marineris Hemisphere Enhanced']\n"
     ]
    }
   ],
   "source": [
    "#Print lists\n",
    "print(hem_urls)\n",
    "print(img_urls)\n",
    "print(titles)"
   ]
  },
  {
   "cell_type": "code",
   "execution_count": 23,
   "metadata": {
    "scrolled": true
   },
   "outputs": [],
   "source": [
    "#Add to Mars dictionary\n",
    "mars_dict['Mars Hemisphere Image URLs']=hem_urls\n",
    "#pprint(mars_dict)"
   ]
  },
  {
   "cell_type": "code",
   "execution_count": 24,
   "metadata": {},
   "outputs": [
    {
     "name": "stdout",
     "output_type": "stream",
     "text": [
      "{'Mars Facts Table': '<table border=\"1\" class=\"dataframe mars_facts table '\n",
      "                     'table-striped\">\\n'\n",
      "                     '  <thead>\\n'\n",
      "                     '    <tr style=\"text-align: right;\">\\n'\n",
      "                     '      <th></th>\\n'\n",
      "                     '      <th>Mars Facts</th>\\n'\n",
      "                     '      <th>Values</th>\\n'\n",
      "                     '    </tr>\\n'\n",
      "                     '  </thead>\\n'\n",
      "                     '  <tbody>\\n'\n",
      "                     '    <tr>\\n'\n",
      "                     '      <th>0</th>\\n'\n",
      "                     '      <td>Equatorial Diameter:</td>\\n'\n",
      "                     '      <td>6,792 km</td>\\n'\n",
      "                     '    </tr>\\n'\n",
      "                     '    <tr>\\n'\n",
      "                     '      <th>1</th>\\n'\n",
      "                     '      <td>Polar Diameter:</td>\\n'\n",
      "                     '      <td>6,752 km</td>\\n'\n",
      "                     '    </tr>\\n'\n",
      "                     '    <tr>\\n'\n",
      "                     '      <th>2</th>\\n'\n",
      "                     '      <td>Mass:</td>\\n'\n",
      "                     '      <td>6.42 x 10^23 kg (10.7% Earth)</td>\\n'\n",
      "                     '    </tr>\\n'\n",
      "                     '    <tr>\\n'\n",
      "                     '      <th>3</th>\\n'\n",
      "                     '      <td>Moons:</td>\\n'\n",
      "                     '      <td>2 (Phobos &amp; Deimos)</td>\\n'\n",
      "                     '    </tr>\\n'\n",
      "                     '    <tr>\\n'\n",
      "                     '      <th>4</th>\\n'\n",
      "                     '      <td>Orbit Distance:</td>\\n'\n",
      "                     '      <td>227,943,824 km (1.52 AU)</td>\\n'\n",
      "                     '    </tr>\\n'\n",
      "                     '    <tr>\\n'\n",
      "                     '      <th>5</th>\\n'\n",
      "                     '      <td>Orbit Period:</td>\\n'\n",
      "                     '      <td>687 days (1.9 years)</td>\\n'\n",
      "                     '    </tr>\\n'\n",
      "                     '    <tr>\\n'\n",
      "                     '      <th>6</th>\\n'\n",
      "                     '      <td>Surface Temperature:</td>\\n'\n",
      "                     '      <td>-153 to 20 °C</td>\\n'\n",
      "                     '    </tr>\\n'\n",
      "                     '    <tr>\\n'\n",
      "                     '      <th>7</th>\\n'\n",
      "                     '      <td>First Record:</td>\\n'\n",
      "                     '      <td>2nd millennium BC</td>\\n'\n",
      "                     '    </tr>\\n'\n",
      "                     '    <tr>\\n'\n",
      "                     '      <th>8</th>\\n'\n",
      "                     '      <td>Recorded By:</td>\\n'\n",
      "                     '      <td>Egyptian astronomers</td>\\n'\n",
      "                     '    </tr>\\n'\n",
      "                     '  </tbody>\\n'\n",
      "                     '</table>',\n",
      " 'Mars Featured Image (URL)': 'https://www.jpl.nasa.gov/spaceimages/images/largesize/PIA17661_hires.jpg',\n",
      " 'Mars Hemisphere Image URLs': [{'img_url': 'http://astropedia.astrogeology.usgs.gov/download/Mars/Viking/cerberus_enhanced.tif/full.jpg',\n",
      "                                 'title': 'Cerberus Hemisphere Enhanced'},\n",
      "                                {'img_url': 'http://astropedia.astrogeology.usgs.gov/download/Mars/Viking/schiaparelli_enhanced.tif/full.jpg',\n",
      "                                 'title': 'Schiaparelli Hemisphere Enhanced'},\n",
      "                                {'img_url': 'http://astropedia.astrogeology.usgs.gov/download/Mars/Viking/syrtis_major_enhanced.tif/full.jpg',\n",
      "                                 'title': 'Syrtis Major Hemisphere Enhanced'},\n",
      "                                {'img_url': 'http://astropedia.astrogeology.usgs.gov/download/Mars/Viking/valles_marineris_enhanced.tif/full.jpg',\n",
      "                                 'title': 'Valles Marineris Hemisphere '\n",
      "                                          'Enhanced'}],\n",
      " 'Mars News Paragraph': \"NASA's Mars rover Curiosity is in good health but \"\n",
      "                        'takes a short break while engineers diagnose why it '\n",
      "                        'reset its computer. ',\n",
      " 'Mars News Title': 'After a Reset, Curiosity Is Operating Normally',\n",
      " 'Mars Weather': 'Curiosity is again operating normally following a boot '\n",
      "                 'problem first experienced last Friday. Look for more Gale '\n",
      "                 'Crater weather conditions soon.\\n'\n",
      "                 'https://www.jpl.nasa.gov/news/news.php?feature=7339\\xa0'\n",
      "                 '…pic.twitter.com/gFMfXyeWDa'}\n"
     ]
    }
   ],
   "source": [
    "#Print complete Mars dictionary\n",
    "pprint(mars_dict)"
   ]
  },
  {
   "cell_type": "code",
   "execution_count": null,
   "metadata": {},
   "outputs": [],
   "source": []
  }
 ],
 "metadata": {
  "kernelspec": {
   "display_name": "Python 3",
   "language": "python",
   "name": "python3"
  },
  "language_info": {
   "codemirror_mode": {
    "name": "ipython",
    "version": 3
   },
   "file_extension": ".py",
   "mimetype": "text/x-python",
   "name": "python",
   "nbconvert_exporter": "python",
   "pygments_lexer": "ipython3",
   "version": "3.6.7"
  }
 },
 "nbformat": 4,
 "nbformat_minor": 2
}
